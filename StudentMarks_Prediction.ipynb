{
 "cells": [
  {
   "cell_type": "raw",
   "id": "cd033db0-4749-42d2-9a5b-6c1cc596f320",
   "metadata": {},
   "source": [
    "import pandas as pd\n",
    "import numpy as np"
   ]
  },
  {
   "cell_type": "raw",
   "id": "7b98a685-328b-4197-9b7c-bae651191f4b",
   "metadata": {},
   "source": [
    "df=pd.read_csv(r\"C:\\Imp\\SamanyuK\\Datasets\\Student_Marks.csv\")\n",
    "df"
   ]
  },
  {
   "cell_type": "raw",
   "id": "365f6c3c-2ad2-4ec1-b649-66713fc7a4cc",
   "metadata": {},
   "source": [
    "import matplotlib.pyplot as plt\n",
    "import seaborn as sns\n",
    "df.info()"
   ]
  },
  {
   "cell_type": "raw",
   "id": "3a3eff50-ddeb-4f43-b8b4-18548a219142",
   "metadata": {},
   "source": [
    "for col in df.columns:\n",
    "    plt.figure(figsize=(15,5))\n",
    "    sns.histplot(df[col],kde=True,bins=40)\n",
    "    plt.show()"
   ]
  },
  {
   "cell_type": "raw",
   "id": "c88a6a9d-3a74-4e6e-bc10-8151334897a3",
   "metadata": {},
   "source": [
    "plt.bar(df['number_courses'], df['time_study'])\n",
    "plt.xlabel('Number of Courses')\n",
    "plt.ylabel('Total Study Hours')\n",
    "plt.yticks(list(np.arange(0,8.5,0.5)))\n",
    "plt.show()"
   ]
  },
  {
   "cell_type": "raw",
   "id": "325473a5-1600-410c-807a-4c8979bdfc5f",
   "metadata": {},
   "source": [
    "sns.scatterplot(data=df,y='Marks',x='time_study')"
   ]
  },
  {
   "cell_type": "raw",
   "id": "0870868c-992b-472a-b81e-03011f8e40c0",
   "metadata": {},
   "source": [
    "sns.scatterplot(data=df,y='Marks',x='number_courses')"
   ]
  },
  {
   "cell_type": "raw",
   "id": "fa214412-fc62-42a7-9fde-e137f8c2b669",
   "metadata": {},
   "source": [
    "sns.heatmap(df.corr(),annot=True)"
   ]
  },
  {
   "cell_type": "raw",
   "id": "d8f73874-dac7-476a-aa60-79a7c7c20173",
   "metadata": {},
   "source": [
    "from sklearn.model_selection import train_test_split\n",
    "from sklearn.preprocessing import StandardScaler\n",
    "x=df.drop(columns='Marks')\n",
    "y=df['Marks']\n",
    "x_t,x_te,y_t,y_te=train_test_split(x,y,test_size=0.25,random_state=20)\n",
    "ss=StandardScaler()\n",
    "x_t=ss.fit_transform(x_t)\n",
    "x_te=ss.transform(x_te)"
   ]
  },
  {
   "cell_type": "raw",
   "id": "d556d81c-2756-40f9-ab99-3dc972eb138f",
   "metadata": {},
   "source": [
    "from sklearn.linear_model import LinearRegression\n",
    "from sklearn.model_selection import cross_val_score\n",
    "reg=LinearRegression()\n",
    "cvs=cross_val_score(reg,x_t,y_t,scoring='r2',cv=5)\n",
    "print(cvs)\n",
    "print(np.mean(cvs))\n",
    "reg.fit(x_t,y_t)\n",
    "pred=reg.predict(x_te)"
   ]
  },
  {
   "cell_type": "raw",
   "id": "9ec53579-35d7-4c6c-b6f7-fbc599459f58",
   "metadata": {},
   "source": [
    "from sklearn.metrics import r2_score\n",
    "r2=r2_score(pred,y_te)\n",
    "print(r2)"
   ]
  },
  {
   "cell_type": "raw",
   "id": "e891f905-3bbd-4516-9dbb-2b98441d7a0a",
   "metadata": {},
   "source": [
    "sns.displot(pred-y_te,kind='kde')"
   ]
  }
 ],
 "metadata": {
  "kernelspec": {
   "display_name": "Python 3 (ipykernel)",
   "language": "python",
   "name": "python3"
  },
  "language_info": {
   "codemirror_mode": {
    "name": "ipython",
    "version": 3
   },
   "file_extension": ".py",
   "mimetype": "text/x-python",
   "name": "python",
   "nbconvert_exporter": "python",
   "pygments_lexer": "ipython3",
   "version": "3.12.2"
  }
 },
 "nbformat": 4,
 "nbformat_minor": 5
}
