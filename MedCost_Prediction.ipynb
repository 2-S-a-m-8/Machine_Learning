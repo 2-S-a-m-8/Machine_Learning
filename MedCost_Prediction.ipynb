{
 "cells": [
  {
   "cell_type": "markdown",
   "id": "2d755de8-a889-48dd-97a4-e20c8ac275d8",
   "metadata": {},
   "source": [
    "Predicting Medical Charges"
   ]
  },
  {
   "cell_type": "code",
   "execution_count": null,
   "id": "3036145d-4a58-4e07-80d3-13b3e3983201",
   "metadata": {},
   "outputs": [],
   "source": [
    "import pandas as pd\n",
    "import numpy as np"
   ]
  },
  {
   "cell_type": "code",
   "execution_count": null,
   "id": "83f01c54-bc23-4895-9b53-d77b4fcb2f40",
   "metadata": {},
   "outputs": [],
   "source": [
    "df=pd.read_csv(r\"C:\\Imp\\SamanyuK\\Datasets\\insurance.csv\")\n",
    "df"
   ]
  },
  {
   "cell_type": "code",
   "execution_count": null,
   "id": "7ca39c9a-ed14-4ab2-bdbd-38ddf7d214c5",
   "metadata": {},
   "outputs": [],
   "source": [
    "print(df.shape)\n",
    "print(df.info())"
   ]
  },
  {
   "cell_type": "code",
   "execution_count": null,
   "id": "89c4f0e8-8853-41ff-a06a-861ee38a3d29",
   "metadata": {},
   "outputs": [],
   "source": [
    "df['sex'].unique()"
   ]
  },
  {
   "cell_type": "code",
   "execution_count": null,
   "id": "19ba5d41-105a-4597-8c3a-54b0cc15a0cd",
   "metadata": {},
   "outputs": [],
   "source": [
    "df['sex']=df['sex'].apply(lambda x:1 if x=='female' else 0)\n",
    "df['sex'].dtype"
   ]
  },
  {
   "cell_type": "code",
   "execution_count": null,
   "id": "79fd913a-5899-416a-97a5-119b599869ce",
   "metadata": {},
   "outputs": [],
   "source": [
    "df['smoker'].unique()"
   ]
  },
  {
   "cell_type": "code",
   "execution_count": null,
   "id": "47316de6-587c-4b24-af16-8fcb5dfa6268",
   "metadata": {},
   "outputs": [],
   "source": [
    "df['smoker']=df['smoker'].apply(lambda x :0 if x=='no' else 1)\n",
    "df['smoker'].dtype"
   ]
  },
  {
   "cell_type": "code",
   "execution_count": null,
   "id": "1e9f5bac-98aa-4c19-a5a1-2d0be008bcdc",
   "metadata": {},
   "outputs": [],
   "source": [
    "df['region'].unique()"
   ]
  },
  {
   "cell_type": "code",
   "execution_count": null,
   "id": "27618809-dfa7-47d5-a868-1272cbd67972",
   "metadata": {},
   "outputs": [],
   "source": [
    "df1=pd.get_dummies(df['region'],prefix='region')\n",
    "df=pd.concat([df,df1],axis=1)\n",
    "df.head()"
   ]
  },
  {
   "cell_type": "code",
   "execution_count": null,
   "id": "40437b48-6566-4c3b-a990-c61716be5ac5",
   "metadata": {},
   "outputs": [],
   "source": [
    "df.drop(columns='region',axis=1,inplace=True)\n",
    "df['region_northeast']=df['region_northeast'].astype(int)\n",
    "df['region_northwest']=df['region_northwest'].astype(int)\n",
    "df['region_southeast']=df['region_southeast'].astype(int)\n",
    "df['region_southwest']=df['region_southwest'].astype(int)\n",
    "df.head()"
   ]
  },
  {
   "cell_type": "code",
   "execution_count": null,
   "id": "7da6b5ab-f4ed-46b9-a8b1-d543bff9dd47",
   "metadata": {},
   "outputs": [],
   "source": [
    "df.columns"
   ]
  },
  {
   "cell_type": "code",
   "execution_count": null,
   "id": "01f5a94a-ba93-4d3b-adcc-e3b329d3315d",
   "metadata": {},
   "outputs": [],
   "source": [
    "import matplotlib.pyplot as plt\n",
    "import seaborn as sns\n",
    "plt.figure(figsize=(15,6))\n",
    "sns.heatmap(df.corr(),annot=True)"
   ]
  },
  {
   "cell_type": "code",
   "execution_count": null,
   "id": "aed42767-fbf7-444d-a992-1ab58e34b3f6",
   "metadata": {},
   "outputs": [],
   "source": [
    "plt.figure(figsize=(15,5))\n",
    "plt.title(\"Distribution of cost for Smokers\")\n",
    "sns.histplot(df[df['smoker']==1]['charges'],color='#4B0082',kde=True)\n",
    "plt.figure(figsize=(15,5))\n",
    "plt.title(\"Distribution of cost for Non-Smokers\")\n",
    "sns.histplot(df[df['smoker']==0]['charges'],color='violet',kde=True)"
   ]
  },
  {
   "cell_type": "code",
   "execution_count": null,
   "id": "5a8bdf18-cbc6-4afa-bd48-5773e84620ce",
   "metadata": {},
   "outputs": [],
   "source": [
    "plt.figure(figsize=(15,6))\n",
    "sns.catplot(x=df['smoker'],kind='count',hue=df['sex'],palette='pink')\n",
    "plt.title(\"Smoker and Non-Smoker count\")"
   ]
  },
  {
   "cell_type": "code",
   "execution_count": null,
   "id": "4b413508-b8e0-4303-9f0b-4eec1809f929",
   "metadata": {},
   "outputs": [],
   "source": [
    "plt.figure(figsize=(15,6))\n",
    "sns.histplot(x=df['charges'],hue=df['age'],palette='coolwarm',multiple='layer')"
   ]
  },
  {
   "cell_type": "code",
   "execution_count": null,
   "id": "4329622d-d5a8-4aa5-a2ce-964969e87a29",
   "metadata": {},
   "outputs": [],
   "source": [
    "plt.figure(figsize=(15,6))\n",
    "plt.title(\"Distribution of BMI\")\n",
    "sns.histplot(df['bmi'], kde=True, color='gold')"
   ]
  },
  {
   "cell_type": "code",
   "execution_count": null,
   "id": "7a9e02e5-0ece-4b9e-98c0-7a8e0ce0e19c",
   "metadata": {},
   "outputs": [],
   "source": [
    "from sklearn.model_selection import train_test_split\n",
    "x=df.drop(columns=['charges', 'region_northeast', 'region_northwest', 'region_southeast',\n",
    "       'region_southwest'])\n",
    "y=df['charges']\n",
    "x_tr,x_te,y_tr,y_te=train_test_split(x,y,test_size=0.25,random_state=82)"
   ]
  },
  {
   "cell_type": "code",
   "execution_count": null,
   "id": "d36ad839-b743-421a-8967-3ecdae49bfc4",
   "metadata": {},
   "outputs": [],
   "source": [
    "from sklearn.model_selection import cross_val_score\n",
    "from sklearn.preprocessing import StandardScaler\n",
    "from sklearn.linear_model import LinearRegression\n",
    "from sklearn.pipeline import Pipeline\n",
    "pipeline = Pipeline([\n",
    "    ('scaler', StandardScaler()),\n",
    "    ('regressor', LinearRegression()) \n",
    "])\n",
    "cv_scores = cross_val_score(pipeline, x_tr, y_tr, cv=5, scoring='r2')\n",
    "\n",
    "print(\"Cross-validation R^2 scores:\", cv_scores)\n",
    "print(\"Mean R^2 score:\", cv_scores.mean())"
   ]
  },
  {
   "cell_type": "code",
   "execution_count": null,
   "id": "4a83fad6-ffa9-477f-b6f3-466a734d58eb",
   "metadata": {},
   "outputs": [],
   "source": [
    "pipeline.fit(x_tr,y_tr)\n",
    "pred=pipeline.predict(x_te)\n",
    "feature_names = x_tr.columns\n",
    "coefficients = pipeline.named_steps['regressor'].coef_\n",
    "coef_df = pd.DataFrame({'Feature': feature_names, 'Coefficient': coefficients})\n",
    "print(coef_df)\n",
    "print('\\n\\n',pred)\n",
    "from sklearn.metrics import r2_score,mean_squared_error\n",
    "print(r2_score(y_te,pred))\n",
    "print(mean_squared_error(y_te,pred))"
   ]
  }
 ],
 "metadata": {
  "kernelspec": {
   "display_name": "Python 3 (ipykernel)",
   "language": "python",
   "name": "python3"
  },
  "language_info": {
   "codemirror_mode": {
    "name": "ipython",
    "version": 3
   },
   "file_extension": ".py",
   "mimetype": "text/x-python",
   "name": "python",
   "nbconvert_exporter": "python",
   "pygments_lexer": "ipython3",
   "version": "3.12.2"
  }
 },
 "nbformat": 4,
 "nbformat_minor": 5
}
