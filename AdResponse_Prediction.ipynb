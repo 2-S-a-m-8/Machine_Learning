{
 "cells": [
  {
   "cell_type": "code",
   "execution_count": null,
   "id": "5e00855c-fb8f-4984-8485-64032d0570f9",
   "metadata": {},
   "outputs": [],
   "source": [
    "import pandas as pd\n",
    "import numpy as np"
   ]
  },
  {
   "cell_type": "code",
   "execution_count": null,
   "id": "a4ecfa3f-89b5-479c-94fa-ad98099d5995",
   "metadata": {},
   "outputs": [],
   "source": [
    "df=pd.read_csv(r\"C:\\Imp\\SamanyuK\\Datasets\\ad_10000records.csv\")\n",
    "df"
   ]
  },
  {
   "cell_type": "code",
   "execution_count": null,
   "id": "4c07898f-45a3-4bba-b0db-93e301e64a0b",
   "metadata": {},
   "outputs": [],
   "source": [
    "df.info()"
   ]
  },
  {
   "cell_type": "code",
   "execution_count": null,
   "id": "dc8e33ba-ef65-4268-b92f-77ffa94c810e",
   "metadata": {},
   "outputs": [],
   "source": [
    "df.columns"
   ]
  },
  {
   "cell_type": "code",
   "execution_count": null,
   "id": "73cf44d3-8b65-47d1-9008-1b6abf4b5359",
   "metadata": {},
   "outputs": [],
   "source": [
    "col=['Ad Topic Line','City','Country','Timestamp']\n",
    "df.drop(columns=col,axis=1,inplace=True)"
   ]
  },
  {
   "cell_type": "code",
   "execution_count": null,
   "id": "e21f2939-6d03-4057-b43f-904085f72900",
   "metadata": {},
   "outputs": [],
   "source": [
    "df.info()"
   ]
  },
  {
   "cell_type": "code",
   "execution_count": null,
   "id": "54907ddd-793d-478f-8066-ddd05ef0e960",
   "metadata": {},
   "outputs": [],
   "source": [
    "df['Gender'].value_counts()"
   ]
  },
  {
   "cell_type": "code",
   "execution_count": null,
   "id": "e8f93afd-5d5a-4f2c-977a-00a87d75e266",
   "metadata": {},
   "outputs": [],
   "source": [
    "df['Gender']=df['Gender'].apply(lambda x: 0 if x=='Female' else 1)"
   ]
  },
  {
   "cell_type": "code",
   "execution_count": null,
   "id": "4c835126-18d8-44a3-9c08-65ad26eab007",
   "metadata": {},
   "outputs": [],
   "source": [
    "df.info()"
   ]
  },
  {
   "cell_type": "code",
   "execution_count": null,
   "id": "af73f954-fb44-47fc-ad45-5aac2128473b",
   "metadata": {},
   "outputs": [],
   "source": [
    "from sklearn.model_selection import train_test_split,RandomizedSearchCV\n",
    "from sklearn.tree import DecisionTreeClassifier"
   ]
  },
  {
   "cell_type": "code",
   "execution_count": null,
   "id": "368317c5-7273-4c3a-8e7f-00c592e6e017",
   "metadata": {},
   "outputs": [],
   "source": [
    "x=df.drop(columns='Clicked on Ad')\n",
    "y=df['Clicked on Ad']\n",
    "x_t,x_te,y_t,y_te=train_test_split(x,y,test_size=0.25,random_state=20)"
   ]
  },
  {
   "cell_type": "code",
   "execution_count": null,
   "id": "840cf75b-b99c-4cd2-8c58-7b17577ff317",
   "metadata": {},
   "outputs": [],
   "source": [
    "dt=DecisionTreeClassifier()\n",
    "path=dt.cost_complexity_pruning_path(x_t,y_t)\n",
    "alphas=path.ccp_alphas"
   ]
  },
  {
   "cell_type": "code",
   "execution_count": null,
   "id": "4be37b5e-680a-491e-b636-9db33a11e04f",
   "metadata": {},
   "outputs": [],
   "source": [
    "param={'ccp_alpha':alphas}\n",
    "ndt=RandomizedSearchCV(dt,param_distributions=param,cv=10,scoring='accuracy',n_jobs=-1,n_iter=100)\n",
    "ndt.fit(x_t,y_t)\n",
    "print(ndt.best_score_)\n",
    "print(ndt.best_params_)\n",
    "ba=ndt.best_params_['ccp_alpha']"
   ]
  },
  {
   "cell_type": "code",
   "execution_count": null,
   "id": "ced81495-8869-4cc2-a964-17a4432c5f6d",
   "metadata": {},
   "outputs": [],
   "source": [
    "dt=DecisionTreeClassifier(ccp_alpha=ba)\n",
    "param={'criterion':['gini','entropy'], 'max_depth':list(np.arange(1,201)), 'min_samples_split':list(np.arange(1,201)),'min_samples_leaf':list(np.arange(1,201)),\n",
    "      'max_features':['sqrt','log2',None]}\n",
    "ndt=RandomizedSearchCV(dt,param_distributions=param,scoring='accuracy',cv=10,n_jobs=-1,n_iter=100)\n",
    "ndt.fit(x_t,y_t)\n",
    "print(ndt.best_score_)\n",
    "print(ndt.best_params_)"
   ]
  },
  {
   "cell_type": "code",
   "execution_count": null,
   "id": "34d46148-3463-41b7-b6ae-7fcabca5a41f",
   "metadata": {},
   "outputs": [],
   "source": [
    "pred=ndt.predict(x_te)"
   ]
  },
  {
   "cell_type": "code",
   "execution_count": null,
   "id": "bf55efcc-a06d-4e32-8699-21a0ad6d08c5",
   "metadata": {},
   "outputs": [],
   "source": [
    "from sklearn.metrics import classification_report,accuracy_score,confusion_matrix\n",
    "cr=classification_report(y_te,pred)\n",
    "a=accuracy_score(y_te,pred)\n",
    "cm=confusion_matrix(y_te,pred)\n",
    "print(cr,a)"
   ]
  },
  {
   "cell_type": "code",
   "execution_count": null,
   "id": "2566bef3-2e47-455f-af78-3a91ee996d00",
   "metadata": {},
   "outputs": [],
   "source": [
    "import seaborn as sns\n",
    "import matplotlib.pyplot as plt\n",
    "plt.figure(figsize=(15,6))\n",
    "sns.heatmap(cm,annot=True)\n",
    "plt.show()"
   ]
  },
  {
   "cell_type": "code",
   "execution_count": null,
   "id": "9f87c4bf-9935-4265-b308-8ce51034d8b0",
   "metadata": {},
   "outputs": [],
   "source": []
  }
 ],
 "metadata": {
  "kernelspec": {
   "display_name": "Python 3 (ipykernel)",
   "language": "python",
   "name": "python3"
  },
  "language_info": {
   "codemirror_mode": {
    "name": "ipython",
    "version": 3
   },
   "file_extension": ".py",
   "mimetype": "text/x-python",
   "name": "python",
   "nbconvert_exporter": "python",
   "pygments_lexer": "ipython3",
   "version": "3.12.2"
  }
 },
 "nbformat": 4,
 "nbformat_minor": 5
}
