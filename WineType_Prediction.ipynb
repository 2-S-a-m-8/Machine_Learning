{
 "cells": [
  {
   "cell_type": "code",
   "execution_count": null,
   "id": "024af38e-caf1-4709-a137-e9df16b605f8",
   "metadata": {},
   "outputs": [],
   "source": [
    "import pandas as pd\n",
    "import numpy as np"
   ]
  },
  {
   "cell_type": "code",
   "execution_count": null,
   "id": "b3d7772c-dd02-49c9-a3fb-d50d52dfcfe2",
   "metadata": {},
   "outputs": [],
   "source": [
    "df=pd.read_csv(r\"C:\\Imp\\SamanyuK\\Datasets\\winequalityN.csv\")\n",
    "df"
   ]
  },
  {
   "cell_type": "code",
   "execution_count": null,
   "id": "ba3725fb-7b63-4f2e-8904-c21c8cd39a3d",
   "metadata": {},
   "outputs": [],
   "source": [
    "df.info()"
   ]
  },
  {
   "cell_type": "code",
   "execution_count": null,
   "id": "965ae33c-7f52-45df-8f98-5eb34d05e895",
   "metadata": {},
   "outputs": [],
   "source": [
    "df=df.dropna()\n",
    "tdf=df.copy()\n",
    "from sklearn.feature_selection import mutual_info_classif\n",
    "x=tdf.drop(columns='type')\n",
    "y=tdf['type']\n",
    "mi=mutual_info_classif(x,y)\n",
    "ndf=pd.DataFrame({'columns':x.columns,'mi':mi})\n",
    "print(ndf)"
   ]
  },
  {
   "cell_type": "code",
   "execution_count": null,
   "id": "f0901a44-0c70-4cab-8a2a-7abeb2c6030a",
   "metadata": {},
   "outputs": [],
   "source": [
    "import seaborn as sns\n",
    "import matplotlib.pyplot as plt\n",
    "t_c=12\n",
    "cpr=3\n",
    "r=4\n",
    "fig,axes=plt.subplots(cpr,r,figsize=(5*cpr,5*r),sharey=True)\n",
    "axes=axes.flatten()\n",
    "for i,col in enumerate(x.columns):\n",
    "    sns.histplot(x=x[col], ax=axes[i],kde=True)"
   ]
  },
  {
   "cell_type": "code",
   "execution_count": null,
   "id": "96a96815-448f-4c18-ad2b-9407d41c641d",
   "metadata": {},
   "outputs": [],
   "source": [
    "t_c=12\n",
    "cpr=3\n",
    "r=4\n",
    "fig,axes=plt.subplots(cpr,r,figsize=(5*cpr,5*r),sharey=True)\n",
    "axes=axes.flatten()\n",
    "for i,col in enumerate(x.columns):\n",
    "    sns.boxplot(x=x[col], ax=axes[i],y=tdf['type'],hue=tdf['type'])"
   ]
  },
  {
   "cell_type": "code",
   "execution_count": null,
   "id": "517b79e5-044c-47e2-a04c-f605fcdeaf9c",
   "metadata": {},
   "outputs": [],
   "source": [
    "c=df['type'].value_counts().reset_index()\n",
    "c.columns=['type','count']\n",
    "plt.figure(figsize=(8,8))\n",
    "plt.pie(x=c['count'],labels=c['type'],autopct='%.2f%%')\n",
    "plt.legend(c['type']+' wine')\n",
    "plt.show()"
   ]
  },
  {
   "cell_type": "code",
   "execution_count": null,
   "id": "0cca982b-1f43-41c2-a3da-2561d7477eb0",
   "metadata": {},
   "outputs": [],
   "source": [
    "plt.figure(figsize=(12,12))\n",
    "sns.catplot(data=df,x='quality',kind='count',hue='type')\n",
    "plt.show()"
   ]
  },
  {
   "cell_type": "code",
   "execution_count": null,
   "id": "37aa126d-2628-4490-b740-50da1c24762e",
   "metadata": {},
   "outputs": [],
   "source": [
    "count_df = df.groupby(['type', 'quality']).size().reset_index(name='count')\n",
    "total_counts = df['type'].value_counts().reset_index()\n",
    "total_counts.columns = ['type', 'total_count']\n",
    "count_df = pd.merge(count_df, total_counts, on='type')\n",
    "count_df['percentage'] = (count_df['count'] / count_df['total_count']) * 100\n",
    "\n",
    "plt.figure(figsize=(12, 8))\n",
    "sns.barplot(data=count_df, x='quality', y='percentage', hue='type')\n",
    "plt.ylabel('Percentage')\n",
    "plt.title('Percentage of Each Wine Type in Different Quality Categories')\n",
    "plt.show()"
   ]
  },
  {
   "cell_type": "code",
   "execution_count": null,
   "id": "05e467aa-a463-4171-8aa4-41c3bba981f4",
   "metadata": {},
   "outputs": [],
   "source": [
    "from sklearn.model_selection import train_test_split,RandomizedSearchCV\n",
    "from sklearn.preprocessing import LabelEncoder\n",
    "from sklearn.linear_model import LogisticRegression\n",
    "from sklearn.neighbors import KNeighborsClassifier\n",
    "from sklearn.tree import DecisionTreeClassifier\n",
    "from sklearn.ensemble import RandomForestClassifier\n",
    "from sklearn.metrics import classification_report,accuracy_score,confusion_matrix"
   ]
  },
  {
   "cell_type": "code",
   "execution_count": null,
   "id": "1cf0224b-e8d6-4083-9baa-843327740281",
   "metadata": {},
   "outputs": [],
   "source": [
    "pred=[]\n",
    "accuracy=[]\n",
    "x=df.drop(columns='type')\n",
    "y=df['type']\n",
    "x_t,x_te,y_t,y_te=train_test_split(x,y,test_size=0.25,random_state=20)"
   ]
  },
  {
   "cell_type": "markdown",
   "id": "06aa5909-9d11-4398-a22d-156d490d56bd",
   "metadata": {},
   "source": [
    "**Logistic Regression**"
   ]
  },
  {
   "cell_type": "code",
   "execution_count": null,
   "id": "4da07df3-9b4b-4b52-8ddb-0177da613599",
   "metadata": {},
   "outputs": [],
   "source": [
    "lx_t=x_t.copy()\n",
    "lx_te=x_te.copy()\n",
    "ly_t=y_t.copy()\n",
    "ly_te=y_te.copy()\n",
    "lreg=LogisticRegression(max_iter=1000)\n",
    "param = {'penalty': ['l1', 'l2'], 'solver': ['liblinear', 'saga']}\n",
    "nlreg=RandomizedSearchCV(lreg,param_distributions=param,n_jobs=-1,cv=10,n_iter=4,scoring='accuracy')\n",
    "nlreg.fit(lx_t,ly_t)\n",
    "print(nlreg.best_params_)\n",
    "print(nlreg.best_score_)"
   ]
  },
  {
   "cell_type": "code",
   "execution_count": null,
   "id": "8893ad61-d7c1-47d6-bc6d-426aefcd5e74",
   "metadata": {},
   "outputs": [],
   "source": [
    "nlreg=nlreg.best_estimator_\n",
    "pred1=nlreg.predict(lx_te)\n",
    "pred.append(pred1)\n",
    "accuracy.append(accuracy_score(y_te,pred1))\n",
    "print(accuracy_score(y_te,pred1))"
   ]
  },
  {
   "cell_type": "markdown",
   "id": "517c7f8d-0a33-4fc1-bae7-89416290a066",
   "metadata": {},
   "source": [
    "**K Nearest Neighbors**"
   ]
  },
  {
   "cell_type": "code",
   "execution_count": null,
   "id": "9c541096-bbc4-4d6b-84a9-ab9f9ba3f344",
   "metadata": {},
   "outputs": [],
   "source": [
    "kx_t=x_t.copy()\n",
    "kx_te=x_te.copy()\n",
    "ky_t=y_t.copy()\n",
    "ky_te=y_te.copy()\n",
    "knn=KNeighborsClassifier()\n",
    "param={'n_neighbors':list(np.arange(1,201,1)), 'weights': ['uniform', 'distance'],'algorithm': ['auto', 'ball_tree', 'kd_tree', 'brute'],\n",
    "      'p': [1, 2]}\n",
    "nknn=RandomizedSearchCV(knn,param_distributions=param,scoring='accuracy',cv=10,n_jobs=-1)\n",
    "nknn.fit(kx_t,ky_t)\n",
    "print(nknn.best_params_)\n",
    "print(nknn.best_score_)"
   ]
  },
  {
   "cell_type": "code",
   "execution_count": null,
   "id": "7cb12f8b-8f10-4eec-ac40-18de30cf11ba",
   "metadata": {},
   "outputs": [],
   "source": [
    "nknn=nknn.best_estimator_\n",
    "pred2=nknn.predict(kx_te)\n",
    "pred.append(pred2)\n",
    "accuracy.append(accuracy_score(y_te,pred2))\n",
    "print(accuracy_score(y_te,pred2))"
   ]
  },
  {
   "cell_type": "markdown",
   "id": "01543357-fdba-4350-ac34-a3238e007966",
   "metadata": {},
   "source": [
    "**Decision Trees**"
   ]
  },
  {
   "cell_type": "code",
   "execution_count": null,
   "id": "3451c020-fc52-41cc-b082-01ad5fda6573",
   "metadata": {},
   "outputs": [],
   "source": [
    "dx_t=x_t.copy()\n",
    "dx_te=x_te.copy()\n",
    "dy_t=y_t.copy()\n",
    "dy_te=y_te.copy()\n",
    "dt=DecisionTreeClassifier()\n",
    "path=dt.cost_complexity_pruning_path(dx_t,dy_t)\n",
    "alphas=path.ccp_alphas\n",
    "param={'ccp_alpha':alphas}\n",
    "ndt=RandomizedSearchCV(dt,param_distributions=param,cv=10,n_jobs=-1,scoring='accuracy')\n",
    "ndt.fit(dx_t,dy_t)\n",
    "ba=ndt.best_params_['ccp_alpha']"
   ]
  },
  {
   "cell_type": "code",
   "execution_count": null,
   "id": "8868474d-781b-46f0-a0d9-46dba8a667fe",
   "metadata": {},
   "outputs": [],
   "source": [
    "dt=DecisionTreeClassifier(ccp_alpha=ba)\n",
    "param={'criterion':['gini','entropy'],'min_samples_split':list(np.arange(2,401)),'min_samples_leaf':list(np.arange(2,401)),\n",
    "       'max_features':['sqrt','log2',None]}\n",
    "ndt=RandomizedSearchCV(dt,param_distributions=param,cv=10,n_jobs=-1,scoring='accuracy')\n",
    "ndt.fit(dx_t,dy_t)\n",
    "print(ndt.best_params_)\n",
    "print(ndt.best_score_)"
   ]
  },
  {
   "cell_type": "code",
   "execution_count": null,
   "id": "02f32933-9bd0-4e98-92e9-154d4262fc38",
   "metadata": {},
   "outputs": [],
   "source": [
    "ndt=ndt.best_estimator_\n",
    "pred3=ndt.predict(dx_te)\n",
    "pred.append(pred3)\n",
    "accuracy.append(accuracy_score(y_te,pred3))\n",
    "print(accuracy_score(y_te,pred3))"
   ]
  },
  {
   "cell_type": "markdown",
   "id": "41f9b38f-19cc-4398-827e-d343e13f8cef",
   "metadata": {},
   "source": [
    "**Random Forest Classifier**"
   ]
  },
  {
   "cell_type": "code",
   "execution_count": null,
   "id": "b6377372-6112-4b80-a949-dd69fed26cf4",
   "metadata": {},
   "outputs": [],
   "source": [
    "rx_t=x_t.copy()\n",
    "rx_te=x_te.copy()\n",
    "ry_t=y_t.copy()\n",
    "ry_te=y_te.copy()\n",
    "rf=RandomForestClassifier()\n",
    "param={'criterion':['gini','entropy'],\n",
    "       'max_features':['sqrt','log2',None],'n_estimators':[200]}\n",
    "nrf=RandomizedSearchCV(rf,param_distributions=param,cv=10,n_jobs=-1,scoring='accuracy',n_iter=6)\n",
    "nrf.fit(rx_t,ry_t)\n",
    "print(nrf.best_params_)\n",
    "print(nrf.best_score_)"
   ]
  },
  {
   "cell_type": "code",
   "execution_count": null,
   "id": "6f39b5e9-dcff-4dd6-82dc-a0c881ed7e40",
   "metadata": {},
   "outputs": [],
   "source": [
    "nrf=nrf.best_estimator_\n",
    "pred4=nrf.predict(rx_te)\n",
    "pred.append(pred4)\n",
    "accuracy.append(accuracy_score(y_te,pred4))\n",
    "print(accuracy_score(y_te,pred4))"
   ]
  },
  {
   "cell_type": "code",
   "execution_count": null,
   "id": "dda7df08-18c7-4560-9203-e74623e11185",
   "metadata": {},
   "outputs": [],
   "source": [
    "label=['Logistic Regression','KNN','Decision Trees','Random Forest']\n",
    "for i,j,k in zip(pred,label,accuracy):\n",
    "    print(j,'\\n')\n",
    "    print(f'Accuracy: {k}\\n\\n')\n",
    "    print(classification_report(y_te,i),'\\n\\n')"
   ]
  },
  {
   "cell_type": "code",
   "execution_count": null,
   "id": "ab58f80a-b7b5-4b33-9da7-fdf7a88b9bc1",
   "metadata": {},
   "outputs": [],
   "source": [
    "fig,axs=plt.subplots(2,2,figsize=(12,10))\n",
    "cm1=confusion_matrix(y_te,pred[0])\n",
    "cm2=confusion_matrix(y_te,pred[1])\n",
    "cm3=confusion_matrix(y_te,pred[2])\n",
    "cm4=confusion_matrix(y_te,pred[3])\n",
    "sns.heatmap(cm1,annot=True,ax=axs[0,0],cmap='magma',xticklabels=['White Wine','Red Wine'],yticklabels=['White Wine','Red Wine'])\n",
    "axs[0, 0].set_title('Confusion Matrix for Logistic Regression')\n",
    "sns.heatmap(cm2,annot=True,ax=axs[0,1],cmap='magma',xticklabels=['White Wine','Red Wine'],yticklabels=['White Wine','Red Wine'])\n",
    "axs[0, 1].set_title('Confusion Matrix for K Nearest Neighbors')\n",
    "sns.heatmap(cm3,annot=True,ax=axs[1,0],cmap='magma',xticklabels=['White Wine','Red Wine'],yticklabels=['White Wine','Red Wine'])\n",
    "axs[1, 0].set_title('Confusion Matrix for Decision Tree Classifier')\n",
    "sns.heatmap(cm4,annot=True,ax=axs[1,1],cmap='magma',xticklabels=['White Wine','Red Wine'],yticklabels=['White Wine','Red Wine'])\n",
    "axs[1, 1].set_title('Confusion Matrix for Random Forest Classifier')\n",
    "plt.tight_layout()\n",
    "plt.show()"
   ]
  }
 ],
 "metadata": {
  "kernelspec": {
   "display_name": "Python 3 (ipykernel)",
   "language": "python",
   "name": "python3"
  },
  "language_info": {
   "codemirror_mode": {
    "name": "ipython",
    "version": 3
   },
   "file_extension": ".py",
   "mimetype": "text/x-python",
   "name": "python",
   "nbconvert_exporter": "python",
   "pygments_lexer": "ipython3",
   "version": "3.12.2"
  }
 },
 "nbformat": 4,
 "nbformat_minor": 5
}
