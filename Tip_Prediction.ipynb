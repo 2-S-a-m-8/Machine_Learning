{
 "cells": [
  {
   "cell_type": "code",
   "execution_count": null,
   "id": "913b73dd-84f0-40f4-9d15-d88e72270c66",
   "metadata": {},
   "outputs": [],
   "source": [
    "import pandas as pd\n",
    "import numpy as np"
   ]
  },
  {
   "cell_type": "code",
   "execution_count": null,
   "id": "f6b3f70f-aae2-47b9-9626-21b9857648b8",
   "metadata": {},
   "outputs": [],
   "source": [
    "df=pd.read_csv(r\"C:\\Imp\\SamanyuK\\Datasets\\tip.csv\")\n",
    "df"
   ]
  },
  {
   "cell_type": "code",
   "execution_count": null,
   "id": "14676051-cda6-46a9-904a-fe98d6435fcb",
   "metadata": {},
   "outputs": [],
   "source": [
    "df.info()"
   ]
  },
  {
   "cell_type": "code",
   "execution_count": null,
   "id": "3f1124c4-a743-4345-970d-b2ca48ffb1bf",
   "metadata": {},
   "outputs": [],
   "source": [
    "import matplotlib.pyplot as plt\n",
    "import seaborn as sns"
   ]
  },
  {
   "cell_type": "code",
   "execution_count": null,
   "id": "7a8343b8-a54a-408b-9b11-b28c955a9453",
   "metadata": {},
   "outputs": [],
   "source": [
    "sns.histplot(data=df,x='total_bill',kde=True,bins=30)"
   ]
  },
  {
   "cell_type": "code",
   "execution_count": null,
   "id": "4f28aff7-fb5e-49d7-87f2-f0a195f5330e",
   "metadata": {},
   "outputs": [],
   "source": [
    "sns.histplot(data=df,x='tip',kde=True)"
   ]
  },
  {
   "cell_type": "code",
   "execution_count": null,
   "id": "2865d961-c7b3-4cc1-8e5b-11a92038a656",
   "metadata": {},
   "outputs": [],
   "source": [
    "sns.barplot(data=df,y='tip',x='sex')\n",
    "plt.show()\n",
    "sns.barplot(data=df,y='tip',x='smoker')\n",
    "plt.show()\n",
    "sns.barplot(data=df,y='tip',x='day')\n",
    "plt.show()\n",
    "sns.barplot(data=df,y='tip',x='time')\n",
    "plt.show()"
   ]
  },
  {
   "cell_type": "code",
   "execution_count": null,
   "id": "f42a8933-0951-449c-9abc-dbd4a458fef5",
   "metadata": {},
   "outputs": [],
   "source": [
    "import plotly.express as px\n",
    "import plotly.graph_objects as go\n",
    "figure = px.pie(df, \n",
    "             values='tip', \n",
    "             names='day',hole = 0.5)\n",
    "figure.show()\n",
    "figure = px.pie(df, \n",
    "             values='tip', \n",
    "             names='smoker',hole = 0.5)\n",
    "figure.show()\n",
    "figure = px.pie(df, \n",
    "             values='tip', \n",
    "             names='sex',hole = 0.5)\n",
    "figure.show()\n",
    "figure = px.pie(df, \n",
    "             values='tip', \n",
    "             names='time',hole = 0.5)\n",
    "figure.show()"
   ]
  },
  {
   "cell_type": "code",
   "execution_count": null,
   "id": "c7890720-4296-4269-9740-a724541aa7ab",
   "metadata": {},
   "outputs": [],
   "source": [
    "f=df.loc[df['smoker']=='Yes',['tip']]\n",
    "f1=df.loc[df['smoker']=='No',['tip']]\n",
    "print(\"Smokers mean and sum of tips\",f.mean().values[0], f.sum().values[0])\n",
    "print(\"Non-Smokers mean and sum of tips\",f1.mean().values[0], f1.sum().values[0])"
   ]
  },
  {
   "cell_type": "code",
   "execution_count": null,
   "id": "3aa9cf7b-7f51-47c7-a7c3-21db660987b8",
   "metadata": {},
   "outputs": [],
   "source": [
    "f=df.loc[df['day']=='Sat',['tip']]\n",
    "f1=df.loc[df['day']=='Sun',['tip']]\n",
    "print(\"Saturday: mean and sum of tips\",f.mean().values[0], f.sum().values[0])\n",
    "print(\"Sunday: mean and sum of tips\",f1.mean().values[0], f1.sum().values[0])"
   ]
  },
  {
   "cell_type": "code",
   "execution_count": null,
   "id": "ba4d4fe1-e221-49c9-8cf4-8d41f32983c8",
   "metadata": {},
   "outputs": [],
   "source": [
    "df.info()"
   ]
  },
  {
   "cell_type": "code",
   "execution_count": null,
   "id": "8a990093-4389-48b4-9c7d-ac33dec07efb",
   "metadata": {},
   "outputs": [],
   "source": [
    "print(df['sex'].value_counts())\n",
    "print(df['sex'].unique())"
   ]
  },
  {
   "cell_type": "code",
   "execution_count": null,
   "id": "ae757d10-f21a-4b6c-8f27-80d86d1ada49",
   "metadata": {},
   "outputs": [],
   "source": [
    "df['sex']=df['sex'].apply(lambda x: 0 if x=='Female' else 1)\n",
    "df['sex']=df['sex'].astype(int)"
   ]
  },
  {
   "cell_type": "code",
   "execution_count": null,
   "id": "fbecbb71-3e1e-467e-b60e-39bf0a667125",
   "metadata": {},
   "outputs": [],
   "source": [
    "print(df['smoker'].value_counts())\n",
    "print(df['smoker'].unique())"
   ]
  },
  {
   "cell_type": "code",
   "execution_count": null,
   "id": "ea9a92da-30ea-4959-bb3c-d80226f18d5e",
   "metadata": {},
   "outputs": [],
   "source": [
    "df['smoker']=df['smoker'].apply(lambda x: 0 if x=='No' else 1)\n",
    "df['smoker']=df['smoker'].astype(int)"
   ]
  },
  {
   "cell_type": "code",
   "execution_count": null,
   "id": "92e915a8-c42e-4f67-9752-a225dd5fdc1c",
   "metadata": {},
   "outputs": [],
   "source": [
    "print(df['time'].value_counts())\n",
    "print(df['time'].unique())"
   ]
  },
  {
   "cell_type": "code",
   "execution_count": null,
   "id": "b7ff51cf-f0b6-4d4e-8748-b4f3f9e500b3",
   "metadata": {},
   "outputs": [],
   "source": [
    "df['time']=df['time'].apply(lambda x: 0 if x=='Lunch' else 1)\n",
    "df['time']=df['time'].astype(int)"
   ]
  },
  {
   "cell_type": "code",
   "execution_count": null,
   "id": "b366c9a4-483c-4589-8575-180211082c49",
   "metadata": {},
   "outputs": [],
   "source": [
    "print(df['day'].value_counts())\n",
    "print(df['day'].unique())"
   ]
  },
  {
   "cell_type": "code",
   "execution_count": null,
   "id": "8f7c5aa6-30a4-4d69-995e-56730b62c302",
   "metadata": {},
   "outputs": [],
   "source": [
    "df1=pd.get_dummies(df['day'])\n",
    "df=pd.concat([df,df1],axis=1)\n",
    "df.drop(columns='day',axis=1,inplace=True)"
   ]
  },
  {
   "cell_type": "code",
   "execution_count": null,
   "id": "6036eee7-0030-41a4-89ef-51c67902d396",
   "metadata": {},
   "outputs": [],
   "source": [
    "df[['Fri','Sat','Sun','Thur']]=df[['Fri','Sat','Sun','Thur']].astype(int)\n",
    "print(df.info())"
   ]
  },
  {
   "cell_type": "code",
   "execution_count": null,
   "id": "625352fb-e57d-4aeb-aee5-7e62573d53a0",
   "metadata": {},
   "outputs": [],
   "source": [
    "df['Price_Per_Customer']=df['total_bill']/df['size']\n",
    "df['Average_Tip']=df['tip']/df['size']"
   ]
  },
  {
   "cell_type": "code",
   "execution_count": null,
   "id": "023b1e3c-f213-47a6-897e-690c07e2ddf2",
   "metadata": {},
   "outputs": [],
   "source": [
    "plt.figure(figsize=(15,7))\n",
    "sns.heatmap(df.corr(),annot=True)\n",
    "plt.show()"
   ]
  },
  {
   "cell_type": "code",
   "execution_count": null,
   "id": "7b7aa6fd-6df4-42fe-9ce3-36d52bdefdff",
   "metadata": {},
   "outputs": [],
   "source": [
    "df.corr()"
   ]
  },
  {
   "cell_type": "code",
   "execution_count": null,
   "id": "db23eb64-bad1-469a-b66a-c71625c7b528",
   "metadata": {},
   "outputs": [],
   "source": [
    "features_to_drop = ['tip', 'Average_Tip'] \n",
    "X = df.drop(columns=features_to_drop)\n",
    "y = df['tip']\n",
    "print(x,y)"
   ]
  },
  {
   "cell_type": "code",
   "execution_count": null,
   "id": "2d328598-4491-4203-9669-e03252fe84c0",
   "metadata": {},
   "outputs": [],
   "source": [
    "from sklearn.model_selection import train_test_split\n",
    "from sklearn.preprocessing import StandardScaler\n",
    "x_t,x_te,y_t,y_te=train_test_split(x,y,test_size=0.20,random_state=20)\n",
    "ss=StandardScaler()\n",
    "x_t=ss.fit_transform(x_t)\n",
    "x_te=ss.transform(x_te)"
   ]
  },
  {
   "cell_type": "code",
   "execution_count": null,
   "id": "a72dbbb4-91f6-471f-8a1c-255ffcde92cc",
   "metadata": {},
   "outputs": [],
   "source": [
    "from sklearn.linear_model import LinearRegression\n",
    "from sklearn.model_selection import cross_val_score\n",
    "reg=LinearRegression()\n",
    "cvs=cross_val_score(reg,x_t,y_t,scoring='r2',cv=2)\n",
    "print(cvs)\n",
    "print(np.mean(cvs))"
   ]
  },
  {
   "cell_type": "code",
   "execution_count": null,
   "id": "5e883cc2-ea01-4786-8efc-766ed0c09260",
   "metadata": {},
   "outputs": [],
   "source": [
    "reg.fit(x_t,y_t)\n",
    "pred=reg.predict(x_te)"
   ]
  },
  {
   "cell_type": "code",
   "execution_count": null,
   "id": "9ebc80a1-00f0-44e2-8e28-c3ad9ba93665",
   "metadata": {},
   "outputs": [],
   "source": [
    "from sklearn.metrics import r2_score\n",
    "from sklearn.metrics import mean_squared_error, mean_absolute_error\n",
    "r2 = r2_score(y_te, pred)\n",
    "print(\"R2 score:\", r2)\n",
    "mae = mean_absolute_error(y_te, pred)\n",
    "rmse = np.sqrt(mean_squared_error(y_te, pred))\n",
    "print(\"Mean Absolute Error:\", mae)\n",
    "print(\"Root Mean Squared Error:\", rmse)"
   ]
  },
  {
   "cell_type": "code",
   "execution_count": null,
   "id": "abb13992-882d-4417-8627-0be08c3e33b9",
   "metadata": {},
   "outputs": [],
   "source": [
    "sns.displot(y_te-pred,kind='kde')"
   ]
  }
 ],
 "metadata": {
  "kernelspec": {
   "display_name": "Python 3 (ipykernel)",
   "language": "python",
   "name": "python3"
  },
  "language_info": {
   "codemirror_mode": {
    "name": "ipython",
    "version": 3
   },
   "file_extension": ".py",
   "mimetype": "text/x-python",
   "name": "python",
   "nbconvert_exporter": "python",
   "pygments_lexer": "ipython3",
   "version": "3.12.2"
  }
 },
 "nbformat": 4,
 "nbformat_minor": 5
}
